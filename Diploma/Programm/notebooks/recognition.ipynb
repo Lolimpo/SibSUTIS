{
 "cells": [
  {
   "cell_type": "code",
   "execution_count": 1,
   "outputs": [],
   "source": [
    "import random\n",
    "\n",
    "import numpy as np\n",
    "import pandas as pd\n",
    "import matplotlib.pyplot as plt\n",
    "import pickle as pkl\n",
    "\n",
    "from tensorflow.keras.layers import Conv2D, MaxPooling2D, Dropout, Flatten, Dense\n",
    "from tensorflow.keras.models import Sequential\n",
    "from tensorflow.keras.callbacks import EarlyStopping, ModelCheckpoint, ReduceLROnPlateau"
   ],
   "metadata": {
    "collapsed": false,
    "pycharm": {
     "name": "#%%\n"
    }
   }
  },
  {
   "cell_type": "code",
   "execution_count": 2,
   "outputs": [],
   "source": [
    "df_labels = pd.read_csv('../data/label_names.csv')\n",
    "train_imgs = pkl.load(open('../data/train.pickle', 'rb'))\n",
    "test_imgs = pkl.load(open('../data/test.pickle', 'rb'))\n",
    "valid_imgs = pkl.load(open('../data/valid.pickle', 'rb'))\n",
    "labels = pkl.load(open('../data/labels.pickle', 'rb'))"
   ],
   "metadata": {
    "collapsed": false,
    "pycharm": {
     "name": "#%%\n"
    }
   }
  },
  {
   "cell_type": "code",
   "execution_count": 3,
   "outputs": [
    {
     "name": "stdout",
     "output_type": "stream",
     "text": [
      "{0: 'Speed Limit (20km/h)', 1: 'Speed Limit (30km/h)', 2: 'Speed Limit (50km/h)', 3: 'Speed Limit (60km/h)', 4: 'Speed Limit (70km/h)', 5: 'Speed Limit (80km/h)', 6: 'Конец ограничения скорости(80km/h)', 7: 'Ограничение скорости (100km/h)', 8: 'Ограничение скорости (120km/h)', 9: 'Обгон запрещен', 10: 'Обгон грузовым автомобилем запрещен', 11: 'Right-of-way at the next intersection', 12: 'Главная дорога', 13: 'Уступите дорогу', 14: 'Стоп', 15: 'Движение запрещено', 16: 'Движение грузовых автомобилей запрещено', 17: 'Въезд запрещен', 18: 'Прочие опасности', 19: 'Опасный поворот налево', 20: 'Опасный поворот направо', 21: 'Опасные повороты', 22: 'Неровная дорога', 23: 'Скользкая дорога', 24: 'Сужение дороги', 25: 'Дорожные работы', 26: 'Светофорное регулирование', 27: 'Пешеходный переход', 28: 'Дети', 29: 'Пересечение с велосипедной дорожкой', 30: 'Снег\\\\гололед', 31: 'Дикие животные', 32: 'Конец зоны всех ограничений', 33: 'Движение направо', 34: 'Движение налево', 35: 'Движение прямо', 36: 'Движение прямо и направо', 37: 'Движение прямо и налево', 38: 'Объезд препятствия справо', 39: 'Объезда препятствия слева', 40: 'Круговое движение', 41: 'Конец зоны запрещения обгона', 42: 'Конец зоны запрещения обгона грузовым автомобилям'}\n"
     ]
    }
   ],
   "source": [
    "labels_dict = dict(zip(list(df_labels.ClassId), list(df_labels.SignName)))\n",
    "print(labels_dict)"
   ],
   "metadata": {
    "collapsed": false,
    "pycharm": {
     "name": "#%%\n"
    }
   }
  },
  {
   "cell_type": "code",
   "execution_count": 4,
   "outputs": [],
   "source": [
    "X_train = train_imgs['features']\n",
    "Y_train = train_imgs['labels']\n",
    "\n",
    "X_val = valid_imgs['features']\n",
    "Y_val = valid_imgs['labels']\n",
    "\n",
    "X_test = test_imgs['features']\n",
    "Y_test = test_imgs['labels']\n"
   ],
   "metadata": {
    "collapsed": false,
    "pycharm": {
     "name": "#%%\n"
    }
   }
  },
  {
   "cell_type": "code",
   "execution_count": null,
   "outputs": [],
   "source": [
    "def shapes(X, Y):\n",
    "    print('X: ', X.shape)\n",
    "    print('Y: ', Y.shape)\n",
    "shapes(X_train, Y_train)\n",
    "shapes(X_val, Y_val)\n",
    "shapes(X_test, Y_test)"
   ],
   "metadata": {
    "collapsed": false,
    "pycharm": {
     "name": "#%%\n"
    }
   }
  },
  {
   "cell_type": "code",
   "execution_count": null,
   "outputs": [],
   "source": [
    "fig, ax = plt.subplots(3)\n",
    "ax[0].imshow(X_train[0])\n",
    "ax[1].imshow(X_val[20])\n",
    "ax[2].imshow(X_test[3])"
   ],
   "metadata": {
    "collapsed": false,
    "pycharm": {
     "name": "#%%\n"
    }
   }
  },
  {
   "cell_type": "code",
   "execution_count": null,
   "outputs": [],
   "source": [
    "# Определение модели и ее типа - Секвентальная см линейным стеком слоев.\n",
    "model = Sequential([\n",
    "    # Шаг №1 - Слой свертки. Форма на вход: 32х32х3, где 3 - количетсво каналов (RGB).\n",
    "    Conv2D(32, kernel_size=(3, 3), input_shape=(32, 32, 3), activation='relu'),\n",
    "    # Шаг №2 - Слой подвыборки с извлечением максимума. Размеры матрицы: 2х2.\n",
    "    MaxPooling2D(2, 2),\n",
    "    # Шаг №3 - Исключение. Регуляризируем дабы не было переобучения.\n",
    "    Dropout(0.2),\n",
    "    # Шаг №4 - Второй слой свертки.\n",
    "    Conv2D(64, kernel_size=(3, 3), activation='relu'),\n",
    "    # Шаг №5 - Снова подвыборка после второго сверточного слоя и также с извлечением максимума.\n",
    "    MaxPooling2D(2, 2),\n",
    "    # Шаг №6 - Снова исключение.\n",
    "    Dropout(0.2),\n",
    "    # Шаг №7 - Выравниваем последний полносвязный слой, конвертируем в меньшую размерность\n",
    "    Flatten(),\n",
    "    # Шаг №8 - Получаем информацию со всех предыдущих слоев в слой с 256 нейронами.\n",
    "    Dense(256, activation='relu'),\n",
    "    # Шаг №9 - Исключение.\n",
    "    Dropout(0.2),\n",
    "    # Шаг №10 - Тот же слой, только нейронов меньше - 128.\n",
    "    Dense(128, activation='relu'),\n",
    "    # Шаг №11 - Исключение.\n",
    "    Dropout(0.2),\n",
    "    # Шаг №12 - Последний Dense слой с 64 нейронами и другим активатором.\n",
    "    Dense(64, activation='softmax')\n",
    "])\n",
    "# Собираем модель, оптимизатор Adam - как наиболее удачный из протестированных,\n",
    "# функция loss по-стандарту и метрики на точность\n",
    "model.compile(optimizer='adam', loss='sparse_categorical_crossentropy', metrics=['accuracy'])"
   ],
   "metadata": {
    "collapsed": false,
    "pycharm": {
     "name": "#%%\n"
    }
   }
  },
  {
   "cell_type": "code",
   "execution_count": null,
   "outputs": [],
   "source": [
    "model.summary()"
   ],
   "metadata": {
    "collapsed": false,
    "pycharm": {
     "name": "#%%\n"
    }
   }
  },
  {
   "cell_type": "code",
   "execution_count": null,
   "outputs": [],
   "source": [
    "# Уменьшаем показатель переобучения отслеживая параметр val_loss.\n",
    "reduce_LR = ReduceLROnPlateau(monitor='val_loss', factor=0.3, mode='min', verbose=1, min_lr=1e-5)\n",
    "# Функция задания чекпоинта с сохраненим лучших результатов модели в файл\n",
    "checkpoint = ModelCheckpoint('traffic_model.h5', save_best_only=True, monitor='val_loss', mode='min')\n",
    "# Функция ранней остановки, если модель достаточно обучена и дальнейшее обучение не требуется\n",
    "early_stopping = EarlyStopping(monitor='val_loss', restore_best_weights=True, patience=5, mode='min')"
   ],
   "metadata": {
    "collapsed": false,
    "pycharm": {
     "name": "#%%\n"
    }
   }
  },
  {
   "cell_type": "code",
   "execution_count": null,
   "outputs": [],
   "source": [
    "hist = model.fit(X_train, Y_train, epochs=20, validation_data=(X_test, Y_test), batch_size=32,\n",
    "                 callbacks=[early_stopping, checkpoint, reduce_LR])"
   ],
   "metadata": {
    "collapsed": false,
    "pycharm": {
     "name": "#%%\n"
    }
   }
  },
  {
   "cell_type": "code",
   "execution_count": null,
   "outputs": [],
   "source": [
    "plt.plot(hist.history['accuracy'], label='Обучающая выборка')\n",
    "plt.plot(hist.history['val_accuracy'], label='Тестовая выборка')\n",
    "plt.rcParams['figure.figsize'] = plt.rcParamsDefault['figure.figsize']\n",
    "plt.xlabel('Эпоха')\n",
    "plt.ylabel('Точность')\n",
    "\n",
    "plt.legend(['Обучающая выборка', 'Тестовая выборка'])\n",
    "plt.savefig('plt.png')"
   ],
   "metadata": {
    "collapsed": false,
    "pycharm": {
     "name": "#%%\n"
    }
   }
  },
  {
   "cell_type": "code",
   "execution_count": null,
   "outputs": [],
   "source": [
    "# Попробуем предсказать одно случайное изображение из датасета\n",
    "image_index = 5555\n",
    "x_input = X_test[image_index:image_index + 1]\n",
    "\n",
    "plt.rcParams['figure.figsize'] = (2.5, 2.5)\n",
    "plt.imshow(x_input[0, :, :, :])\n",
    "plt.axis('off')\n",
    "\n",
    "scores = model.predict(x_input)\n",
    "print(scores[0].shape)\n",
    "\n",
    "prediction = np.argmax(scores)\n",
    "print('Class id:', labels_dict[prediction])"
   ],
   "metadata": {
    "collapsed": false,
    "pycharm": {
     "name": "#%%\n"
    }
   }
  },
  {
   "cell_type": "code",
   "execution_count": 7,
   "outputs": [
    {
     "ename": "NameError",
     "evalue": "name 'model' is not defined",
     "output_type": "error",
     "traceback": [
      "\u001B[1;31m---------------------------------------------------------------------------\u001B[0m",
      "\u001B[1;31mNameError\u001B[0m                                 Traceback (most recent call last)",
      "\u001B[1;32m<ipython-input-7-0f3ae7712564>\u001B[0m in \u001B[0;36m<module>\u001B[1;34m\u001B[0m\n\u001B[0;32m      7\u001B[0m     \u001B[0mplt\u001B[0m\u001B[1;33m.\u001B[0m\u001B[0myticks\u001B[0m\u001B[1;33m(\u001B[0m\u001B[1;33m[\u001B[0m\u001B[1;33m]\u001B[0m\u001B[1;33m)\u001B[0m\u001B[1;33m\u001B[0m\u001B[1;33m\u001B[0m\u001B[0m\n\u001B[0;32m      8\u001B[0m     \u001B[0mx_input\u001B[0m \u001B[1;33m=\u001B[0m \u001B[0mX_test\u001B[0m\u001B[1;33m[\u001B[0m\u001B[0mstart_index\u001B[0m \u001B[1;33m+\u001B[0m \u001B[0mi\u001B[0m\u001B[1;33m:\u001B[0m\u001B[0mstart_index\u001B[0m\u001B[1;33m+\u001B[0m\u001B[1;36m1\u001B[0m\u001B[1;33m+\u001B[0m\u001B[0mi\u001B[0m\u001B[1;33m]\u001B[0m\u001B[1;33m\u001B[0m\u001B[1;33m\u001B[0m\u001B[0m\n\u001B[1;32m----> 9\u001B[1;33m     \u001B[0mprediction\u001B[0m \u001B[1;33m=\u001B[0m \u001B[0mlabels_dict\u001B[0m\u001B[1;33m[\u001B[0m\u001B[0mnp\u001B[0m\u001B[1;33m.\u001B[0m\u001B[0margmax\u001B[0m\u001B[1;33m(\u001B[0m\u001B[0mmodel\u001B[0m\u001B[1;33m.\u001B[0m\u001B[0mpredict\u001B[0m\u001B[1;33m(\u001B[0m\u001B[0mx_input\u001B[0m\u001B[1;33m)\u001B[0m\u001B[1;33m)\u001B[0m\u001B[1;33m]\u001B[0m\u001B[1;33m\u001B[0m\u001B[1;33m\u001B[0m\u001B[0m\n\u001B[0m\u001B[0;32m     10\u001B[0m     \u001B[0mactual\u001B[0m \u001B[1;33m=\u001B[0m \u001B[0mlabels_dict\u001B[0m\u001B[1;33m[\u001B[0m\u001B[0mY_test\u001B[0m\u001B[1;33m[\u001B[0m\u001B[0mstart_index\u001B[0m\u001B[1;33m+\u001B[0m\u001B[0mi\u001B[0m\u001B[1;33m]\u001B[0m\u001B[1;33m]\u001B[0m\u001B[1;33m\u001B[0m\u001B[1;33m\u001B[0m\u001B[0m\n\u001B[0;32m     11\u001B[0m     \u001B[0mcol\u001B[0m \u001B[1;33m=\u001B[0m \u001B[1;34m'g'\u001B[0m \u001B[1;32mif\u001B[0m \u001B[0mprediction\u001B[0m \u001B[1;33m==\u001B[0m \u001B[0mactual\u001B[0m \u001B[1;32melse\u001B[0m \u001B[1;34m'r'\u001B[0m\u001B[1;33m\u001B[0m\u001B[1;33m\u001B[0m\u001B[0m\n",
      "\u001B[1;31mNameError\u001B[0m: name 'model' is not defined"
     ]
    },
    {
     "data": {
      "text/plain": "<Figure size 1080x1080 with 1 Axes>",
      "image/png": "[encoded data removed]"
     },
     "metadata": {},
     "output_type": "display_data"
    }
   ],
   "source": [
    "# Задаем размер рисунка\n",
    "plt.figure(figsize=(15, 15))\n",
    "for i in range(25):\n",
    "    # Случайный индекс изображения\n",
    "    start_index = random.randint(0, 10000)\n",
    "    plt.subplot(5, 5, i + 1)\n",
    "    plt.xticks([])\n",
    "    plt.yticks([])\n",
    "    # Берем изображение на вход\n",
    "    x_input = X_test[start_index:start_index+1]\n",
    "    # Составляем предсказание\n",
    "    prediction = labels_dict[np.argmax(model.predict(x_input))]\n",
    "    # Получаем класс знака на самом деле\n",
    "    actual = labels_dict[Y_test[start_index]]\n",
    "    col = 'g' if prediction == actual else 'r'\n",
    "    # Подписываем с определенным цветом текста в зависимости от правильности предсказания\n",
    "    plt.xlabel(f'На деле: {actual}\\nМодель: {prediction}', color=col)\n",
    "    plt.imshow(X_test[start_index])\n",
    "# Выводим рисунок и сохраняем\n",
    "plt.show()\n",
    "plt.savefig('../training_examples.png')"
   ],
   "metadata": {
    "collapsed": false,
    "pycharm": {
     "name": "#%%\n"
    }
   }
  }
 ],
 "metadata": {
  "kernelspec": {
   "display_name": "Python 3",
   "language": "python",
   "name": "python3"
  },
  "language_info": {
   "codemirror_mode": {
    "name": "ipython",
    "version": 2
   },
   "file_extension": ".py",
   "mimetype": "text/x-python",
   "name": "python",
   "nbconvert_exporter": "python",
   "pygments_lexer": "ipython2",
   "version": "2.7.6"
  }
 },
 "nbformat": 4,
 "nbformat_minor": 0
}